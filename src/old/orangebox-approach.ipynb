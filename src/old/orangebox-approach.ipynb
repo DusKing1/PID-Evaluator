{
 "metadata": {
  "language_info": {
   "codemirror_mode": {
    "name": "ipython",
    "version": 3
   },
   "file_extension": ".py",
   "mimetype": "text/x-python",
   "name": "python",
   "nbconvert_exporter": "python",
   "pygments_lexer": "ipython3",
   "version": "3.8.3-final"
  },
  "orig_nbformat": 2,
  "kernelspec": {
   "name": "Python 3.8.3 64-bit ('base': conda)",
   "display_name": "Python 3.8.3 64-bit ('base': conda)",
   "metadata": {
    "interpreter": {
     "hash": "2cb5fc6d4d84c01c0fea6d9e9d0ed05531f8505cce9339ba62b00000c892f567"
    }
   }
  }
 },
 "nbformat": 4,
 "nbformat_minor": 2,
 "cells": [
  {
   "cell_type": "code",
   "execution_count": 1,
   "metadata": {},
   "outputs": [],
   "source": [
    "%matplotlib inline"
   ]
  },
  {
   "cell_type": "code",
   "execution_count": 33,
   "metadata": {},
   "outputs": [],
   "source": [
    "# Import libs\n",
    "\n",
    "import numpy as np\n",
    "import matplotlib.pyplot as plt\n",
    "from scipy import interpolate\n",
    "from scipy.fftpack import fft,ifft\n",
    "from numpy.fft import rfft,irfft\n",
    "from scipy.cluster.vq import vq,kmeans,whiten\n",
    "from scipy import conj,argmax"
   ]
  },
  {
   "cell_type": "code",
   "execution_count": 52,
   "metadata": {},
   "outputs": [],
   "source": [
    "# This is to set log file path\n",
    "\n",
    "logFileName ='000-beetle-1.53-4.1'\n",
    "logFileType = '.BBL'\n",
    "logFilePath = logFileName+logFileType"
   ]
  },
  {
   "cell_type": "code",
   "execution_count": 70,
   "metadata": {
    "tags": []
   },
   "outputs": [
    {
     "output_type": "stream",
     "name": "stdout",
     "text": "field names: ['loopIteration', 'time', 'axisP[0]', 'axisP[1]', 'axisP[2]', 'axisI[0]', 'axisI[1]', 'axisI[2]', 'axisD[0]', 'axisD[1]', 'axisF[0]', 'axisF[1]', 'axisF[2]', 'rcCommand[0]', 'rcCommand[1]', 'rcCommand[2]', 'rcCommand[3]', 'setpoint[0]', 'setpoint[1]', 'setpoint[2]', 'setpoint[3]', 'vbatLatest', 'gyroADC[0]', 'gyroADC[1]', 'gyroADC[2]', 'accSmooth[0]', 'accSmooth[1]', 'accSmooth[2]', 'debug[0]', 'debug[1]', 'debug[2]', 'debug[3]', 'motor[0]', 'motor[1]', 'motor[2]', 'motor[3]', 'flightModeFlags', 'stateFlags', 'failsafePhase', 'rxSignalReceived', 'rxFlightChannelsValid']\nlog count: 1\n"
    }
   ],
   "source": [
    "# This cell uses OrangeBox to decode blackbox data\n",
    "\n",
    "from orangebox import Parser\n",
    "\n",
    "# Load a file\n",
    "parser = Parser.load(logFilePath)\n",
    "# or optionally select a log by index (1 is the default)\n",
    "# parser = Parser.load(\"btfl_all.bbl\", 1)\n",
    "\n",
    "# Print headers\n",
    "#print(\"headers:\", parser.headers)\n",
    "\n",
    "# Print the names of fields\n",
    "print(\"field names:\", parser.field_names)\n",
    "\n",
    "# Select a specific log within the file by index\n",
    "print(\"log count:\", parser.reader.log_count)\n",
    "#parser.set_log_index(1)\n",
    "\n",
    "# Complete list of events only available once all frames have been parsed\n",
    "#print(\"events:\", parser.events)\n",
    "\n",
    "# Selecting another log changes the header and frame data produced by the Parser\n",
    "# and also clears any previous results and state\n",
    "parser.set_log_index(1)"
   ]
  },
  {
   "cell_type": "code",
   "execution_count": 71,
   "metadata": {},
   "outputs": [],
   "source": [
    "#set a load_log_data funciton to help load log data from the logfile\n",
    "def load_log_data(parser, *args):\n",
    "    result_index = []\n",
    "    result_data = []\n",
    "    i=0\n",
    "    for arraydef in args:\n",
    "        if type(arraydef).__name__ == \"str\":\n",
    "            result_index.append(parser.field_names.index(arraydef))\n",
    "            result_data.append([])\n",
    "        else:\n",
    "            for name in arraydef:\n",
    "                result_index.append(parser.field_names.index(name))\n",
    "                result_data.append([])\n",
    "    for frame in parser.frames():\n",
    "        for i in range(len(result_index)):\n",
    "            result_data[i].append(frame.data[result_index[i]])\n",
    "    i = 0\n",
    "    result = []\n",
    "    for arraydef in args:\n",
    "        if type(arraydef).__name__ == \"str\":\n",
    "            result.append(np.array(result_data[i]))\n",
    "            i=i+1\n",
    "        else:\n",
    "            part_array = []\n",
    "            for name in arraydef:\n",
    "                part_array.append(result_data[i])\n",
    "                i=i+1\n",
    "            result.append(np.array(part_array))\n",
    "    return result"
   ]
  },
  {
   "cell_type": "code",
   "execution_count": 72,
   "metadata": {
    "tags": []
   },
   "outputs": [
    {
     "output_type": "stream",
     "name": "stderr",
     "text": "Unknown event type: 110\nUnknown event type: 110\n"
    }
   ],
   "source": [
    "# Load data for analyze\n",
    "\n",
    "loopIteration   = load_log_data(parser, 'loopIteration')\n",
    "time            = load_log_data(parser, 'time')\n",
    "setpointData    = load_log_data(parser, ('setpoint[0]',  'setpoint[1]', 'setpoint[2]'))\n",
    "gyroADCData     = load_log_data(parser, ('gyroADC[0]',   'gyroADC[1]',  'gyroADC[2]'))\n",
    "gyroScaleData   = load_log_data(parser, ('debug[0]', 'debug[1]', 'debug[2]'))\n",
    "thrData         = load_log_data(parser, 'rcCommand[3]')\n",
    "#[loopIteration, time, setpointData, gyroADCData, gyroScaleData, thrData] = load_log_data(parser, 'loopIteration', 'time', ('setpoint[0]',  'setpoint[1]', 'setpoint[2]'),('gyroADC[0]',   'gyroADC[1]',  'gyroADC[2]'), ('debug[0]', 'debug[1]', 'debug[2]'), 'rcCommand[3]')"
   ]
  },
  {
   "cell_type": "code",
   "execution_count": 73,
   "metadata": {
    "tags": []
   },
   "outputs": [
    {
     "output_type": "stream",
     "name": "stdout",
     "text": "[array([], dtype=float64)]\n[]\n[]\nnan\nnan\n"
    }
   ],
   "source": [
    "print(time)\n",
    "time=time-time[0]\n",
    "print(time)\n",
    "diffOfTime = np.diff(time)\n",
    "print(diffOfTime)\n",
    "averageUs = np.median(diffOfTime)\n",
    "print(averageUs)\n",
    "samplingRate = 1000000/averageUs\n",
    "print(samplingRate)"
   ]
  },
  {
   "cell_type": "code",
   "execution_count": null,
   "metadata": {},
   "outputs": [],
   "source": []
  }
 ]
}